{
 "cells": [
  {
   "cell_type": "markdown",
   "metadata": {},
   "source": [
    "# Loading Text from a PDF\n",
    "All of the abstracts are in a PDF document. They all have their submission number, so we need to parse that out as well."
   ]
  },
  {
   "cell_type": "markdown",
   "metadata": {},
   "source": [
    "This code for loading PDF's works, but not well. There are a lot of characters it gets wrong, and new lines are put at the wrong places. "
   ]
  },
  {
   "cell_type": "code",
   "execution_count": 17,
   "metadata": {},
   "outputs": [],
   "source": [
    "# from PyPDF2 import PdfFileReader\n",
    "# pdf = PdfFileReader(\"dros_2019_data/Dros19_Abstracts_Full_v2.pdf\")\n",
    "# text = ''\n",
    "# print(\"Pages\", pdf.getNumPages())\n",
    "# for page in range(0, pdf.getNumPages()):\n",
    "#     text += pdf.getPage(page).extractText()\n",
    "# with open(\"dros_2019_data/Dros19_Abstracts_Full_v2.txt\", 'w') as f:\n",
    "#     f.write(text)"
   ]
  },
  {
   "cell_type": "markdown",
   "metadata": {},
   "source": [
    "I think a better solution is to copy everything into a text file, and then follow a simple chain of logic to parse it.\n",
    "\n",
    "- Every ID number comes IN ORDER in the file.\n",
    "- Every ID number comes after a new line and is followed by a space.\n",
    "- So if we scan line by line, and incriment the ID we are looking for, then it is really unlikely that we will run into any conflicts (i.e. next ID is 100 and 100 is used in the text of 99, causing it to be split.)  \n",
    "\n",
    "If done correctly, there should be 844 abstracts"
   ]
  },
  {
   "cell_type": "code",
   "execution_count": 22,
   "metadata": {},
   "outputs": [
    {
     "name": "stdout",
     "output_type": "stream",
     "text": [
      "844 abtracts\n"
     ]
    }
   ],
   "source": [
    "with open(\"dros_2019_data/Dros19_Abstracts_Full_v2_hard-Copy.txt\", 'r') as f:\n",
    "    \n",
    "    abstracts = {}\n",
    "    idfind = 2\n",
    "    record = ''\n",
    "    \n",
    "    for line in f:\n",
    "        line = line.rstrip()\n",
    "        if (str(idfind + 1) + ' ') in line:\n",
    "            abstracts[idfind] = record\n",
    "            record = ''\n",
    "            idfind += 1\n",
    "        record += line\n",
    "            \n",
    "print(len(abstracts), 'abtracts')    "
   ]
  },
  {
   "cell_type": "markdown",
   "metadata": {},
   "source": [
    "Well there we go. Not so bad!"
   ]
  },
  {
   "cell_type": "code",
   "execution_count": null,
   "metadata": {},
   "outputs": [],
   "source": []
  }
 ],
 "metadata": {
  "kernelspec": {
   "display_name": "Python 3",
   "language": "python",
   "name": "python3"
  },
  "language_info": {
   "codemirror_mode": {
    "name": "ipython",
    "version": 3
   },
   "file_extension": ".py",
   "mimetype": "text/x-python",
   "name": "python",
   "nbconvert_exporter": "python",
   "pygments_lexer": "ipython3",
   "version": "3.7.2"
  }
 },
 "nbformat": 4,
 "nbformat_minor": 2
}
